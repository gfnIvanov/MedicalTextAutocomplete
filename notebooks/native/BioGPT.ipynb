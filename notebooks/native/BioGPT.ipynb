{
 "cells": [
  {
   "cell_type": "markdown",
   "metadata": {},
   "source": [
    "## Оценка работы модели microsoft/biogpt в исходном виде"
   ]
  },
  {
   "cell_type": "code",
   "execution_count": 40,
   "metadata": {},
   "outputs": [],
   "source": [
    "from transformers import AutoTokenizer, BioGptForCausalLM\n",
    "\n",
    "tokenizer = AutoTokenizer.from_pretrained(\"microsoft/biogpt\")\n",
    "model = BioGptForCausalLM.from_pretrained(\"microsoft/biogpt\")"
   ]
  },
  {
   "cell_type": "markdown",
   "metadata": {},
   "source": [
    "Попробуем субъективно оценить качество работы модели. Для этого возьмем несколько предложений из медицинских протоколов (и просто из головы). В комментариях ожидаемые ответы"
   ]
  },
  {
   "cell_type": "code",
   "execution_count": 41,
   "metadata": {},
   "outputs": [],
   "source": [
    "sentences = [\n",
    "    \"The patient has an elevated\", # temperature\n",
    "    \"Skin physiological color, moderate\", # humidity\n",
    "    \"The tongue is moist, covered with a gray\", # coating\n",
    "    \"Complaints of recurrent head\", # aches\n",
    "    \"The cervix is ​​located along the wire axis of the\", # pelvis\n",
    "    \"Molecular diagnostics of hereditary \", # diseases\n",
    "    \"Infectious diseases: chickenpox, mumps, candidiasis, candidal\", # balanitis\n",
    "    \"General cerebral symptoms decreased during\", # treatment\n",
    "    \"Moderate age-related dysrhythmia with\", # hyperventilation\n",
    "    \"Preliminary diagnosis: Vegetovascular\", # dystonia\n",
    "    \"Against the background of signs of cerebral angiodystonia, a moderate increase in blood\", # flow\n",
    "    \"Moderately severe vertebrogenic pain\", # syndrome\n",
    "    \"CDG with examination of extracranial\" # vessels\n",
    "]"
   ]
  },
  {
   "cell_type": "markdown",
   "metadata": {},
   "source": [
    "Для каждого предложения выведем три наиболее подходящих варианта"
   ]
  },
  {
   "cell_type": "code",
   "execution_count": 43,
   "metadata": {},
   "outputs": [
    {
     "name": "stdout",
     "output_type": "stream",
     "text": [
      "У пациента наблюдается повышенная температура а\n",
      "У пациента наблюдается повышенная температура о\n",
      "У пациента наблюдается повышенная температура с\n",
      "-----------------------------------------\n",
      "The patient has an elevated serum\n",
      "The patient has an elevated level\n",
      "The patient has an elevated risk\n",
      "-----------------------------------------\n",
      "Skin physiological color, moderate-\n",
      "Skin physiological color, moderate to\n",
      "Skin physiological color, moderate and\n",
      "-----------------------------------------\n",
      "The tongue is moist, covered with a gray,\n",
      "The tongue is moist, covered with a gray-\n",
      "The tongue is moist, covered with a gray and\n",
      "-----------------------------------------\n",
      "Complaints of recurrent head and\n",
      "Complaints of recurrent head injury\n",
      "Complaints of recurrent head trauma\n",
      "-----------------------------------------\n",
      "The cervix is located along the wire axis of the applicator\n",
      "The cervix is located along the wire axis of the probe\n",
      "The cervix is located along the wire axis of the instrument\n",
      "-----------------------------------------\n",
      "Molecular diagnostics of hereditary breast\n",
      "Molecular diagnostics of hereditary colorectal\n",
      "Molecular diagnostics of hereditary hemochromatosis\n",
      "-----------------------------------------\n",
      "Infectious diseases: chickenpox, mumps, candidiasis, candidal infections\n",
      "Infectious diseases: chickenpox, mumps, candidiasis, candidal vag\n",
      "Infectious diseases: chickenpox, mumps, candidiasis, candidal infection\n",
      "-----------------------------------------\n",
      "General cerebral symptoms decreased during the\n",
      "General cerebral symptoms decreased during treatment\n",
      "General cerebral symptoms decreased during therapy\n",
      "-----------------------------------------\n",
      "Moderate age-related dysrhythmia with a\n",
      "Moderate age-related dysrhythmia with normal\n",
      "Moderate age-related dysrhythmia with an\n",
      "-----------------------------------------\n",
      "Preliminary diagnosis: Vegetovascular disease\n",
      "Preliminary diagnosis: Vegetovascular disorders\n",
      "Preliminary diagnosis: Vegetovascular diseases\n",
      "-----------------------------------------\n",
      "Against the background of signs of cerebral angiodystonia, a moderate increase in blood pressure\n",
      "Against the background of signs of cerebral angiodystonia, a moderate increase in blood flow\n",
      "Against the background of signs of cerebral angiodystonia, a moderate increase in blood viscosity\n",
      "-----------------------------------------\n",
      "Moderately severe vertebrogenic pain is\n",
      "Moderately severe vertebrogenic pain in\n",
      "Moderately severe vertebrogenic pain and\n",
      "-----------------------------------------\n",
      "CDG with examination of extracranial arteries\n",
      "CDG with examination of extracranial vessels\n",
      "CDG with examination of extracranial and\n",
      "-----------------------------------------\n"
     ]
    }
   ],
   "source": [
    "for sent in sentences:\n",
    "    input_ids = tokenizer.encode(sent, return_tensors=\"pt\")\n",
    "    outputs = model.generate(input_ids,\n",
    "                             max_new_tokens=1,\n",
    "                             do_sample=False,\n",
    "                             num_beams=5,\n",
    "                             no_repeat_ngram_size=2,\n",
    "                             num_return_sequences=3,\n",
    "                             early_stopping=True,\n",
    "                             top_k=50)\n",
    "    i = 0\n",
    "    for out in outputs:\n",
    "        i += 1\n",
    "        print(tokenizer.decode(out, skip_special_tokens=True))\n",
    "        if i % 3 == 0:\n",
    "            print(\"-----------------------------------------\")"
   ]
  },
  {
   "cell_type": "markdown",
   "metadata": {},
   "source": [
    "Результаты не совсем соответствуют ожидаемым, но это нормально, учитывая прямой перевод предложений с русского на английский через гугл-переводчик. Для получения более корретных результатов желательно использовать англоязычные источники, хотя даже в текущем варианте видно, что модель понимает медицинскую тематику предложений и выдает адекватные результаты"
   ]
  }
 ],
 "metadata": {
  "kernelspec": {
   "display_name": "medicaltextautocomplete-2NsD41MD-py3.11",
   "language": "python",
   "name": "python3"
  },
  "language_info": {
   "codemirror_mode": {
    "name": "ipython",
    "version": 3
   },
   "file_extension": ".py",
   "mimetype": "text/x-python",
   "name": "python",
   "nbconvert_exporter": "python",
   "pygments_lexer": "ipython3",
   "version": "3.11.7"
  }
 },
 "nbformat": 4,
 "nbformat_minor": 2
}
